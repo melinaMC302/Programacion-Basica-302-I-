{
  "nbformat": 4,
  "nbformat_minor": 0,
  "metadata": {
    "colab": {
      "provenance": [],
      "authorship_tag": "ABX9TyP94U8NsHR+9kivkz9Vw4Tb",
      "include_colab_link": true
    },
    "kernelspec": {
      "name": "python3",
      "display_name": "Python 3"
    },
    "language_info": {
      "name": "python"
    }
  },
  "cells": [
    {
      "cell_type": "markdown",
      "metadata": {
        "id": "view-in-github",
        "colab_type": "text"
      },
      "source": [
        "<a href=\"https://colab.research.google.com/github/melinaMC302/Programacion-Basica-302-I-/blob/main/Actlab%20302%20/Actlab1.ipynb\" target=\"_parent\"><img src=\"https://colab.research.google.com/assets/colab-badge.svg\" alt=\"Open In Colab\"/></a>"
      ]
    },
    {
      "cell_type": "markdown",
      "source": [
        "\n",
        "PB302_1cpp Programa de Bienvenida\n",
        "\n"
      ],
      "metadata": {
        "id": "eVaLrywPmQ_7"
      }
    },
    {
      "cell_type": "code",
      "execution_count": 1,
      "metadata": {
        "colab": {
          "base_uri": "https://localhost:8080/"
        },
        "id": "mILHUEbClj5d",
        "outputId": "e5b5b134-8761-47f9-de12-1ba3c8b786c2"
      },
      "outputs": [
        {
          "output_type": "stream",
          "name": "stdout",
          "text": [
            "Writing PB302_1.cpp\n"
          ]
        }
      ],
      "source": [
        "%%writefile PB302_1.cpp\n",
        "//Programa para imprimir mensaje de bienvenida\n",
        "//creado por: laura melina morales cerda\n",
        "//fecha:15/sept/25\n",
        "//PB302_.cpp\n",
        "#include <iostream>\n",
        "using namespace std;\n",
        "int main ()\n",
        "{\n",
        "  cout<<\" BIENVENIDOS A PROGRAMACION BASICA EN C++\\n\";\n",
        "  cout<< \"gracias por programar en clase\";\n",
        "  return 0;\n",
        "}"
      ]
    },
    {
      "cell_type": "markdown",
      "source": [
        "Actividad de laboratorio 1 imprecion de mensajes"
      ],
      "metadata": {
        "id": "DOO47078xn2K"
      }
    },
    {
      "cell_type": "code",
      "source": [
        "!g++ PB302_1.cpp -o PB302_1\n",
        "!./PB302_1"
      ],
      "metadata": {
        "colab": {
          "base_uri": "https://localhost:8080/"
        },
        "id": "juxkMHwhpzRn",
        "outputId": "31571644-ea36-4f06-d781-5eaec6a07f43"
      },
      "execution_count": 2,
      "outputs": [
        {
          "output_type": "stream",
          "name": "stdout",
          "text": [
            " BIENVENIDOS A PROGRAMACION BASICA EN C++\n",
            "gracias por programar en clase"
          ]
        }
      ]
    },
    {
      "cell_type": "markdown",
      "source": [],
      "metadata": {
        "id": "h5-JD6Npq4WX"
      }
    },
    {
      "cell_type": "code",
      "source": [
        "PB302_2c.pp Programa para imprimir datos personales"
      ],
      "metadata": {
        "colab": {
          "base_uri": "https://localhost:8080/",
          "height": 110
        },
        "id": "y3Kt2fZJrJFA",
        "outputId": "6246799c-54bf-4344-8ad0-a003c454a164"
      },
      "execution_count": 17,
      "outputs": [
        {
          "output_type": "error",
          "ename": "SyntaxError",
          "evalue": "invalid syntax (ipython-input-2861419655.py, line 1)",
          "traceback": [
            "\u001b[0;36m  File \u001b[0;32m\"/tmp/ipython-input-2861419655.py\"\u001b[0;36m, line \u001b[0;32m1\u001b[0m\n\u001b[0;31m    PB302_2c.pp Programa para imprimir datos personales\u001b[0m\n\u001b[0m                ^\u001b[0m\n\u001b[0;31mSyntaxError\u001b[0m\u001b[0;31m:\u001b[0m invalid syntax\n"
          ]
        }
      ]
    },
    {
      "cell_type": "code",
      "source": [
        "%%writefile PB302_2.cpp\n",
        "//Programa para mostrar datos personales\n",
        "//Creado por: laura melina morales cerda\n",
        "//fecha:18/sep/205\n",
        "//PB302_2.cpp\n",
        "#include <iostream>\n",
        "using namespace std;\n",
        "int main()\n",
        "{\n",
        "  char nombre[13]=\"melina\";\n",
        "  char materno[10]=\"morales\";\n",
        "  char paterno[10]=\"cerda\";\n",
        "  int edad=15;\n",
        "  char direccion[45]=\"Himno nacional\";\n",
        "  char fechanac[20]=\"21/nov/2009\";\n",
        "  char ciudadnac[21]=\"Ciudad juarez\";\n",
        "\n",
        "  cout<<\"Tu nombre completo es:\\n\";\n",
        "  cout<<nombre<<\"\\n\";\n",
        "  cout<<paterno<<\"\\n\";\n",
        "  cout<<materno<<\"\\n\";\n",
        "  cout<<edad<<\"\\n\";\n",
        "  cout<<direccion<<\"\\n\";\n",
        "  cout<<fechanac<<\"\\n\";\n",
        "  cout<<ciudadnac<<\"\\n\";\n",
        "  return 0;\n",
        "}\n"
      ],
      "metadata": {
        "colab": {
          "base_uri": "https://localhost:8080/"
        },
        "id": "bYXrHpjLrzv2",
        "outputId": "53c215dd-ae47-46ae-9a98-a50c7287c407"
      },
      "execution_count": 34,
      "outputs": [
        {
          "output_type": "stream",
          "name": "stdout",
          "text": [
            "Overwriting PB302_2.cpp\n"
          ]
        }
      ]
    },
    {
      "cell_type": "code",
      "source": [
        "!g++ PB302_2.cpp -o PB302_2.exe\n",
        "!./PB302_2.exe"
      ],
      "metadata": {
        "colab": {
          "base_uri": "https://localhost:8080/"
        },
        "id": "K2xMmwUwwos9",
        "outputId": "6e132a30-d08a-437d-a609-8e5da88dde74"
      },
      "execution_count": 35,
      "outputs": [
        {
          "output_type": "stream",
          "name": "stdout",
          "text": [
            "Tu nombre completo es:\n",
            "melina\n",
            "cerda\n",
            "morales\n",
            "15\n",
            "Himno nacional\n",
            "21/nov/2009\n",
            "Ciudad juarez\n"
          ]
        }
      ]
    },
    {
      "cell_type": "code",
      "source": [],
      "metadata": {
        "id": "qZxuuixHv9RO"
      },
      "execution_count": null,
      "outputs": []
    },
    {
      "cell_type": "code",
      "source": [],
      "metadata": {
        "id": "t3Ypfd95rb3e"
      },
      "execution_count": null,
      "outputs": []
    },
    {
      "cell_type": "code",
      "execution_count": null,
      "metadata": {
        "colab": {
          "base_uri": "https://localhost:8080/"
        },
        "outputId": "e5b5b134-8761-47f9-de12-1ba3c8b786c2",
        "id": "j7QNsJBaq8w2"
      },
      "outputs": [
        {
          "output_type": "stream",
          "name": "stdout",
          "text": [
            "Writing PB302_1.cpp\n"
          ]
        }
      ],
      "source": []
    }
  ]
}