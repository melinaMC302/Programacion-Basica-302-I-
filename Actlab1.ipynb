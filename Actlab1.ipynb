{
  "nbformat": 4,
  "nbformat_minor": 0,
  "metadata": {
    "colab": {
      "provenance": [],
      "authorship_tag": "ABX9TyOnh2N9WpgbFjzSdebkLPPh",
      "include_colab_link": true
    },
    "kernelspec": {
      "name": "python3",
      "display_name": "Python 3"
    },
    "language_info": {
      "name": "python"
    }
  },
  "cells": [
    {
      "cell_type": "markdown",
      "metadata": {
        "id": "view-in-github",
        "colab_type": "text"
      },
      "source": [
        "<a href=\"https://colab.research.google.com/github/melinaMC302/Programacion-Basica-302-I-/blob/main/Actlab1.ipynb\" target=\"_parent\"><img src=\"https://colab.research.google.com/assets/colab-badge.svg\" alt=\"Open In Colab\"/></a>"
      ]
    },
    {
      "cell_type": "markdown",
      "source": [
        "\n",
        "PB302_1cpp Programa de Bienvenida\n",
        "\n"
      ],
      "metadata": {
        "id": "eVaLrywPmQ_7"
      }
    },
    {
      "cell_type": "code",
      "execution_count": 7,
      "metadata": {
        "colab": {
          "base_uri": "https://localhost:8080/"
        },
        "id": "mILHUEbClj5d",
        "outputId": "8c02e600-631b-4acb-ce01-cfd6cfb75f99"
      },
      "outputs": [
        {
          "output_type": "stream",
          "name": "stdout",
          "text": [
            "Overwriting PB302_1.cpp\n"
          ]
        }
      ],
      "source": [
        "%%writefile PB302_1.cpp\n",
        "//Programa para imprimir mensaje de bienvenida\n",
        "//creado por: laura melina morales cerda\n",
        "//fecha:15/sept/25\n",
        "//PB302_.cpp\n",
        "#include <iostream>\n",
        "using namespace std;\n",
        "int main ()\n",
        "{\n",
        "  cout<<\" BIENVENIDOS A PROGRAMACION BASICA EN C++\\n\";\n",
        "  cout<< \"gracias por programar en clase\";\n",
        "  return 0;\n",
        "}"
      ]
    },
    {
      "cell_type": "markdown",
      "source": [
        "Actividad de laboratorio 1 imprecion de mensajes"
      ],
      "metadata": {
        "id": "DOO47078xn2K"
      }
    },
    {
      "cell_type": "code",
      "source": [
        "!g++ PB302_1.cpp -o PB302_1\n",
        "!./PB302_1"
      ],
      "metadata": {
        "colab": {
          "base_uri": "https://localhost:8080/"
        },
        "id": "juxkMHwhpzRn",
        "outputId": "a50df214-3680-45ec-b71d-8f499840f768"
      },
      "execution_count": 8,
      "outputs": [
        {
          "output_type": "stream",
          "name": "stdout",
          "text": [
            " BIENVENIDOS A PROGRAMACION BASICA EN C++\n",
            "gracias por programar en clase"
          ]
        }
      ]
    }
  ]
}